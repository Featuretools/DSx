{
 "cells": [
  {
   "cell_type": "markdown",
   "metadata": {},
   "source": [
    "# New York City Taxi Ride Duration Prediction\n",
    "\n",
    "In this case study, we will build a predictive model to predict the duration of taxi ride. We will do the following steps:\n",
    "  * First install the dependencies\n",
    "  * Next load the data as pandas dataframe\n",
    "  * Define the outcome variable - the variable we are trying to predict.\n",
    "  * Build features using [featuretools](featuretools.com) package that implements Deep Feature Synthesis. We will start with simple features and incrementally improve the feature definitions and examine the accuracy of the system.\n",
    "\n",
    "\n",
    "Allocate at least 2-3 hours to go through this case study end-to-end"
   ]
  },
  {
   "cell_type": "markdown",
   "metadata": {},
   "source": [
    "# Install Dependencies \n",
    "<p>If you have not done so already, download this repository <a href=\"https://github.com/Featuretools/DSx/archive/master.zip\">from git</a>. Once you have downloaded this archive, unzip it and cd into the directory from the command line. Next run the command ``./install_osx.sh`` if you are on a mac or ``./install_linux.sh`` if you are on linux. This should install all of the dependencies.</p>\n",
    "<p> If you are on a windows machine, open the requirements.txt folder and make sure to install each of the dependencies listed (featuretools, jupyter, pandas, sklearn, numpy) </p>\n",
    "<p> Once you have installed all of the dependencies, open this notebook. On Mac and Linux, navigate to the directory that you downloaded from git and run ``jupyter notebook`` to be taken to this notebook in your default web browser. When you open the NewYorkCity_taxi_case_study.ipynb file in the web browser, you can step through the code by clicking the ``Run`` button at the top of the page. If you have any questions for how to use <a href=\"http://jupyter.org/\">Jupyter</a>, refer to google or the discussion forum.</p>"
   ]
  },
  {
   "cell_type": "markdown",
   "metadata": {},
   "source": [
    "# Running the Code"
   ]
  },
  {
   "cell_type": "code",
   "execution_count": 1,
   "metadata": {},
   "outputs": [
    {
     "name": "stdout",
     "output_type": "stream",
     "text": [
      "0.1.14\n",
      "The autoreload extension is already loaded. To reload it, use:\n",
      "  %reload_ext autoreload\n"
     ]
    }
   ],
   "source": [
    "import featuretools as ft\n",
    "import utils\n",
    "from utils import load_nyc_taxi_data, compute_features, preview, feature_importances\n",
    "from sklearn.ensemble import GradientBoostingRegressor\n",
    "from featuretools.primitives import (Day, Hour, Minute, Month, Weekday, \n",
    "                                     Week, Weekend, Sum, Mean, Median, Std)\n",
    "print ft.__version__\n",
    "%load_ext autoreload\n",
    "%autoreload 2"
   ]
  },
  {
   "cell_type": "markdown",
   "metadata": {},
   "source": [
    "# Step 1: Download and load the raw data as pandas dataframes\n",
    "<p>If you have not yet downloaded the data it can be downloaded <a href=\"https://s3.amazonaws.com/mit-dsx-data/nyc-taxi-data.zip\">from S3</a>. Once you have downloaded the archive, unzip it and place the nyc-taxi-data folder in the same directory as this script. \n",
    "</p>"
   ]
  },
  {
   "cell_type": "code",
   "execution_count": 2,
   "metadata": {
    "scrolled": true
   },
   "outputs": [
    {
     "data": {
      "text/html": [
       "<div>\n",
       "<style>\n",
       "    .dataframe thead tr:only-child th {\n",
       "        text-align: right;\n",
       "    }\n",
       "\n",
       "    .dataframe thead th {\n",
       "        text-align: left;\n",
       "    }\n",
       "\n",
       "    .dataframe tbody tr th {\n",
       "        vertical-align: top;\n",
       "    }\n",
       "</style>\n",
       "<table border=\"1\" class=\"dataframe\">\n",
       "  <thead>\n",
       "    <tr style=\"text-align: right;\">\n",
       "      <th></th>\n",
       "      <th>id</th>\n",
       "      <th>vendor_id</th>\n",
       "      <th>pickup_datetime</th>\n",
       "      <th>dropoff_datetime</th>\n",
       "      <th>passenger_count</th>\n",
       "      <th>trip_distance</th>\n",
       "      <th>pickup_longitude</th>\n",
       "      <th>pickup_latitude</th>\n",
       "      <th>store_and_fwd_flag</th>\n",
       "      <th>dropoff_longitude</th>\n",
       "      <th>dropoff_latitude</th>\n",
       "      <th>payment_type</th>\n",
       "      <th>trip_duration</th>\n",
       "    </tr>\n",
       "  </thead>\n",
       "  <tbody>\n",
       "    <tr>\n",
       "      <th>0</th>\n",
       "      <td>0</td>\n",
       "      <td>2</td>\n",
       "      <td>2016-01-01 00:00:19</td>\n",
       "      <td>2016-01-01 00:06:31</td>\n",
       "      <td>3</td>\n",
       "      <td>1.32</td>\n",
       "      <td>-73.961258</td>\n",
       "      <td>40.796200</td>\n",
       "      <td>False</td>\n",
       "      <td>-73.950050</td>\n",
       "      <td>40.787312</td>\n",
       "      <td>2</td>\n",
       "      <td>372.0</td>\n",
       "    </tr>\n",
       "    <tr>\n",
       "      <th>679995</th>\n",
       "      <td>679995</td>\n",
       "      <td>1</td>\n",
       "      <td>2016-04-30 12:57:36</td>\n",
       "      <td>2016-04-30 13:04:36</td>\n",
       "      <td>1</td>\n",
       "      <td>1.10</td>\n",
       "      <td>-73.979973</td>\n",
       "      <td>40.770679</td>\n",
       "      <td>False</td>\n",
       "      <td>-73.969696</td>\n",
       "      <td>40.785587</td>\n",
       "      <td>1</td>\n",
       "      <td>420.0</td>\n",
       "    </tr>\n",
       "    <tr>\n",
       "      <th>679996</th>\n",
       "      <td>679996</td>\n",
       "      <td>2</td>\n",
       "      <td>2016-04-30 12:57:40</td>\n",
       "      <td>2016-04-30 13:06:01</td>\n",
       "      <td>5</td>\n",
       "      <td>1.22</td>\n",
       "      <td>-73.940399</td>\n",
       "      <td>40.793880</td>\n",
       "      <td>False</td>\n",
       "      <td>-73.952667</td>\n",
       "      <td>40.804859</td>\n",
       "      <td>1</td>\n",
       "      <td>501.0</td>\n",
       "    </tr>\n",
       "    <tr>\n",
       "      <th>679997</th>\n",
       "      <td>679997</td>\n",
       "      <td>2</td>\n",
       "      <td>2016-04-30 12:57:45</td>\n",
       "      <td>2016-04-30 13:07:11</td>\n",
       "      <td>1</td>\n",
       "      <td>1.58</td>\n",
       "      <td>-73.924728</td>\n",
       "      <td>40.744068</td>\n",
       "      <td>False</td>\n",
       "      <td>-73.953087</td>\n",
       "      <td>40.749290</td>\n",
       "      <td>1</td>\n",
       "      <td>566.0</td>\n",
       "    </tr>\n",
       "    <tr>\n",
       "      <th>679998</th>\n",
       "      <td>679998</td>\n",
       "      <td>2</td>\n",
       "      <td>2016-04-30 12:57:49</td>\n",
       "      <td>2016-04-30 13:15:28</td>\n",
       "      <td>1</td>\n",
       "      <td>4.76</td>\n",
       "      <td>-73.985863</td>\n",
       "      <td>40.746799</td>\n",
       "      <td>False</td>\n",
       "      <td>-74.005951</td>\n",
       "      <td>40.711269</td>\n",
       "      <td>2</td>\n",
       "      <td>1059.0</td>\n",
       "    </tr>\n",
       "    <tr>\n",
       "      <th>679999</th>\n",
       "      <td>679999</td>\n",
       "      <td>2</td>\n",
       "      <td>2016-04-30 12:58:04</td>\n",
       "      <td>2016-04-30 13:08:30</td>\n",
       "      <td>1</td>\n",
       "      <td>1.79</td>\n",
       "      <td>-73.959747</td>\n",
       "      <td>40.773682</td>\n",
       "      <td>False</td>\n",
       "      <td>-73.981071</td>\n",
       "      <td>40.778381</td>\n",
       "      <td>2</td>\n",
       "      <td>626.0</td>\n",
       "    </tr>\n",
       "    <tr>\n",
       "      <th>680000</th>\n",
       "      <td>680000</td>\n",
       "      <td>2</td>\n",
       "      <td>2016-04-30 12:58:33</td>\n",
       "      <td>2016-04-30 13:08:51</td>\n",
       "      <td>1</td>\n",
       "      <td>1.32</td>\n",
       "      <td>-73.981300</td>\n",
       "      <td>40.752972</td>\n",
       "      <td>False</td>\n",
       "      <td>-73.973923</td>\n",
       "      <td>40.764381</td>\n",
       "      <td>1</td>\n",
       "      <td>618.0</td>\n",
       "    </tr>\n",
       "    <tr>\n",
       "      <th>680001</th>\n",
       "      <td>680001</td>\n",
       "      <td>2</td>\n",
       "      <td>2016-04-30 12:58:39</td>\n",
       "      <td>2016-04-30 13:16:19</td>\n",
       "      <td>2</td>\n",
       "      <td>1.99</td>\n",
       "      <td>-73.987549</td>\n",
       "      <td>40.756226</td>\n",
       "      <td>False</td>\n",
       "      <td>-73.998032</td>\n",
       "      <td>40.765732</td>\n",
       "      <td>2</td>\n",
       "      <td>1060.0</td>\n",
       "    </tr>\n",
       "    <tr>\n",
       "      <th>680002</th>\n",
       "      <td>680002</td>\n",
       "      <td>2</td>\n",
       "      <td>2016-04-30 12:58:47</td>\n",
       "      <td>2016-04-30 13:13:47</td>\n",
       "      <td>2</td>\n",
       "      <td>4.00</td>\n",
       "      <td>-73.951172</td>\n",
       "      <td>40.774220</td>\n",
       "      <td>False</td>\n",
       "      <td>-73.909988</td>\n",
       "      <td>40.801823</td>\n",
       "      <td>1</td>\n",
       "      <td>900.0</td>\n",
       "    </tr>\n",
       "    <tr>\n",
       "      <th>680003</th>\n",
       "      <td>680003</td>\n",
       "      <td>1</td>\n",
       "      <td>2016-04-30 12:58:56</td>\n",
       "      <td>2016-04-30 13:24:28</td>\n",
       "      <td>1</td>\n",
       "      <td>6.10</td>\n",
       "      <td>-74.008163</td>\n",
       "      <td>40.703640</td>\n",
       "      <td>False</td>\n",
       "      <td>-73.984138</td>\n",
       "      <td>40.758980</td>\n",
       "      <td>2</td>\n",
       "      <td>1532.0</td>\n",
       "    </tr>\n",
       "  </tbody>\n",
       "</table>\n",
       "</div>"
      ],
      "text/plain": [
       "            id vendor_id     pickup_datetime    dropoff_datetime  \\\n",
       "0            0         2 2016-01-01 00:00:19 2016-01-01 00:06:31   \n",
       "679995  679995         1 2016-04-30 12:57:36 2016-04-30 13:04:36   \n",
       "679996  679996         2 2016-04-30 12:57:40 2016-04-30 13:06:01   \n",
       "679997  679997         2 2016-04-30 12:57:45 2016-04-30 13:07:11   \n",
       "679998  679998         2 2016-04-30 12:57:49 2016-04-30 13:15:28   \n",
       "679999  679999         2 2016-04-30 12:58:04 2016-04-30 13:08:30   \n",
       "680000  680000         2 2016-04-30 12:58:33 2016-04-30 13:08:51   \n",
       "680001  680001         2 2016-04-30 12:58:39 2016-04-30 13:16:19   \n",
       "680002  680002         2 2016-04-30 12:58:47 2016-04-30 13:13:47   \n",
       "680003  680003         1 2016-04-30 12:58:56 2016-04-30 13:24:28   \n",
       "\n",
       "        passenger_count  trip_distance  pickup_longitude  pickup_latitude  \\\n",
       "0                     3           1.32        -73.961258        40.796200   \n",
       "679995                1           1.10        -73.979973        40.770679   \n",
       "679996                5           1.22        -73.940399        40.793880   \n",
       "679997                1           1.58        -73.924728        40.744068   \n",
       "679998                1           4.76        -73.985863        40.746799   \n",
       "679999                1           1.79        -73.959747        40.773682   \n",
       "680000                1           1.32        -73.981300        40.752972   \n",
       "680001                2           1.99        -73.987549        40.756226   \n",
       "680002                2           4.00        -73.951172        40.774220   \n",
       "680003                1           6.10        -74.008163        40.703640   \n",
       "\n",
       "        store_and_fwd_flag  dropoff_longitude  dropoff_latitude  payment_type  \\\n",
       "0                    False         -73.950050         40.787312             2   \n",
       "679995               False         -73.969696         40.785587             1   \n",
       "679996               False         -73.952667         40.804859             1   \n",
       "679997               False         -73.953087         40.749290             1   \n",
       "679998               False         -74.005951         40.711269             2   \n",
       "679999               False         -73.981071         40.778381             2   \n",
       "680000               False         -73.973923         40.764381             1   \n",
       "680001               False         -73.998032         40.765732             2   \n",
       "680002               False         -73.909988         40.801823             1   \n",
       "680003               False         -73.984138         40.758980             2   \n",
       "\n",
       "        trip_duration  \n",
       "0               372.0  \n",
       "679995          420.0  \n",
       "679996          501.0  \n",
       "679997          566.0  \n",
       "679998         1059.0  \n",
       "679999          626.0  \n",
       "680000          618.0  \n",
       "680001         1060.0  \n",
       "680002          900.0  \n",
       "680003         1532.0  "
      ]
     },
     "execution_count": 2,
     "metadata": {},
     "output_type": "execute_result"
    }
   ],
   "source": [
    "trips, passenger_cnt, vendors = load_nyc_taxi_data()\n",
    "preview(trips,10)"
   ]
  },
  {
   "cell_type": "markdown",
   "metadata": {},
   "source": [
    "The ``trips`` table has the following fields\n",
    "* ``id`` which uniquely identifies the trip\n",
    "* ``vendor_id`` is the taxi cab company - in our case study we have data from three different cab companies\n",
    "* ``pickup_datetime`` the time stamp for pickup\n",
    "* ``dropoff_datetime`` the time stamp for drop-off\n",
    "* ``passenger_count`` the number of passengers for the trip\n",
    "* ``trip_distance`` total distance of the trip in miles \n",
    "* ``pickup_longitude`` the longitude for pickup\n",
    "* ``pickup_latitude`` the latitude for pickup\n",
    "* ``dropoff_longitude``the longitude of dropoff \n",
    "* ``dropoff_latitude`` the latitude of dropoff\n",
    "* ``payment_type`` A numeric code signifying how the passenger paid for the trip. 1= Credit card 2= Cash 3= No charge 4= Dispute 5= Unknown 6= Voided\n",
    "* ``trip_duration`` this is the duration we would like to predict using other fields "
   ]
  },
  {
   "cell_type": "markdown",
   "metadata": {},
   "source": [
    "# Step 2: Prepare the Data\n",
    "Lets create entities and relationships. The three entities in this data are \n",
    "* trips \n",
    "* vendors (these are the cab companies)\n",
    "* passenger_cnt (a simple entity that has the unique number of passenger counts 1-8)\n",
    "\n",
    "This data has the following relationships\n",
    "* Vendors --> trips (the same vendor can have multiple trips - vendors is the ``parent_entity`` and trips it the child entity\n",
    "* passenger_cnt --> trips (the same passenger_cnt can appear in multiple trips. passenger_cnt is the ``parent_entity`` and trips is the child entity. \n",
    "\n",
    "In <a <href=\"https://www.featuretools.com/\"><featuretools (automated feature engineering software package)/></a>, we specify the list of entities and relationships as follows: "
   ]
  },
  {
   "cell_type": "code",
   "execution_count": 3,
   "metadata": {
    "collapsed": true
   },
   "outputs": [],
   "source": [
    "entities = {\n",
    "        \"trips\": (trips, \"id\", 'pickup_datetime' ),\n",
    "        \"vendors\": (vendors, \"vendor_id\"),\n",
    "        \"passenger_cnt\": (passenger_cnt,\"passenger_count\")\n",
    "        }\n",
    "\n",
    "relationships = [(\"vendors\", \"vendor_id\",\"trips\", \"vendor_id\"), \n",
    "                (\"passenger_cnt\", \"passenger_count\",\"trips\", \"passenger_count\")]"
   ]
  },
  {
   "cell_type": "markdown",
   "metadata": {},
   "source": [
    "<p>We specify the time for each instance of the target_entity, in this case ``trips`` to calculate features. The timestamp represents the last time data can be used for calculating features by DFS. This is specified using a dataframe of cutoff time. This cutoff time for each trip is the pickup time. We want to have a minimum amount of data, so we only use trips after January 12th, 2016</p>"
   ]
  },
  {
   "cell_type": "code",
   "execution_count": 4,
   "metadata": {},
   "outputs": [
    {
     "data": {
      "text/html": [
       "<div>\n",
       "<style>\n",
       "    .dataframe thead tr:only-child th {\n",
       "        text-align: right;\n",
       "    }\n",
       "\n",
       "    .dataframe thead th {\n",
       "        text-align: left;\n",
       "    }\n",
       "\n",
       "    .dataframe tbody tr th {\n",
       "        vertical-align: top;\n",
       "    }\n",
       "</style>\n",
       "<table border=\"1\" class=\"dataframe\">\n",
       "  <thead>\n",
       "    <tr style=\"text-align: right;\">\n",
       "      <th></th>\n",
       "      <th>id</th>\n",
       "      <th>pickup_datetime</th>\n",
       "    </tr>\n",
       "  </thead>\n",
       "  <tbody>\n",
       "    <tr>\n",
       "      <th>56311</th>\n",
       "      <td>56311</td>\n",
       "      <td>2016-01-12 00:00:25</td>\n",
       "    </tr>\n",
       "    <tr>\n",
       "      <th>698765</th>\n",
       "      <td>698765</td>\n",
       "      <td>2016-05-03 18:54:53</td>\n",
       "    </tr>\n",
       "    <tr>\n",
       "      <th>698766</th>\n",
       "      <td>698766</td>\n",
       "      <td>2016-05-03 18:55:37</td>\n",
       "    </tr>\n",
       "    <tr>\n",
       "      <th>698767</th>\n",
       "      <td>698767</td>\n",
       "      <td>2016-05-03 18:55:38</td>\n",
       "    </tr>\n",
       "    <tr>\n",
       "      <th>698768</th>\n",
       "      <td>698768</td>\n",
       "      <td>2016-05-03 18:55:49</td>\n",
       "    </tr>\n",
       "    <tr>\n",
       "      <th>698769</th>\n",
       "      <td>698769</td>\n",
       "      <td>2016-05-03 18:55:58</td>\n",
       "    </tr>\n",
       "    <tr>\n",
       "      <th>698770</th>\n",
       "      <td>698770</td>\n",
       "      <td>2016-05-03 18:56:22</td>\n",
       "    </tr>\n",
       "    <tr>\n",
       "      <th>698771</th>\n",
       "      <td>698771</td>\n",
       "      <td>2016-05-03 18:56:24</td>\n",
       "    </tr>\n",
       "    <tr>\n",
       "      <th>698772</th>\n",
       "      <td>698772</td>\n",
       "      <td>2016-05-03 18:56:51</td>\n",
       "    </tr>\n",
       "    <tr>\n",
       "      <th>698773</th>\n",
       "      <td>698773</td>\n",
       "      <td>2016-05-03 18:56:56</td>\n",
       "    </tr>\n",
       "  </tbody>\n",
       "</table>\n",
       "</div>"
      ],
      "text/plain": [
       "            id     pickup_datetime\n",
       "56311    56311 2016-01-12 00:00:25\n",
       "698765  698765 2016-05-03 18:54:53\n",
       "698766  698766 2016-05-03 18:55:37\n",
       "698767  698767 2016-05-03 18:55:38\n",
       "698768  698768 2016-05-03 18:55:49\n",
       "698769  698769 2016-05-03 18:55:58\n",
       "698770  698770 2016-05-03 18:56:22\n",
       "698771  698771 2016-05-03 18:56:24\n",
       "698772  698772 2016-05-03 18:56:51\n",
       "698773  698773 2016-05-03 18:56:56"
      ]
     },
     "execution_count": 4,
     "metadata": {},
     "output_type": "execute_result"
    }
   ],
   "source": [
    "cutoff_time = trips[['id', 'pickup_datetime']]\n",
    "cutoff_time = cutoff_time[cutoff_time['pickup_datetime'] > \"2016-01-12\"]\n",
    "preview(cutoff_time, 10)"
   ]
  },
  {
   "cell_type": "markdown",
   "metadata": {},
   "source": [
    "# Step 3: Create baseline features using DFS \n",
    "<p>Instead of manually creating features, such as \"<b>month of pickup_datetime</b>\", we can let featuretools come up with them. </p> \n",
    "\n",
    "Featuretools does this by \n",
    "* interpret the types of variables - categorical, numeric and others. We can override this interpretation by specifying the types. In this case study, we wanted <b>passenger_count</b> to be a type of Ordinal, and <b>vendor_id</b> to be of type Categorical. This override occured while loading in the csv files.</p>\n",
    "* then based on the primitives we specify, it matches up the columns to which those primitives can be applied. "
   ]
  },
  {
   "cell_type": "markdown",
   "metadata": {},
   "source": [
    "# Create transform features using transform primitives\n",
    "\n",
    "As we described in the video, features fall into two major categories, ``transform`` and ``aggregate``. In featureools, we can create transform features by specifying ``transform`` primitives. Below we specify a ``transform`` primitive called ``weekend`` and here is what it does:\n",
    "\n",
    "* It can be applied to any ``datetime`` column in the data. \n",
    "* For each entry in the column, it assess if it is a ``weekend`` and returns a boolean. \n",
    "\n",
    "In this specific data, there are two ``datetime`` columns ``pickup_datetime`` and ``dropoff_datetime``. The tool automatically creates features using the primitive and these two columns as shown below. "
   ]
  },
  {
   "cell_type": "code",
   "execution_count": 5,
   "metadata": {
    "collapsed": true
   },
   "outputs": [],
   "source": [
    "trans_primitives = [Weekend]\n",
    "\n",
    "features = ft.dfs(entities=entities,\n",
    "                  relationships=relationships,\n",
    "                  target_entity=\"trips\",\n",
    "                  trans_primitives=trans_primitives,\n",
    "                  agg_primitives=[],\n",
    "                  features_only=True)"
   ]
  },
  {
   "cell_type": "markdown",
   "metadata": {},
   "source": [
    "<p>Here are the features created.</p>"
   ]
  },
  {
   "cell_type": "code",
   "execution_count": 6,
   "metadata": {},
   "outputs": [
    {
     "name": "stdout",
     "output_type": "stream",
     "text": [
      "12\n"
     ]
    },
    {
     "data": {
      "text/plain": [
       "[<Feature: vendor_id>,\n",
       " <Feature: passenger_count>,\n",
       " <Feature: payment_type>,\n",
       " <Feature: dropoff_longitude>,\n",
       " <Feature: pickup_latitude>,\n",
       " <Feature: trip_duration>,\n",
       " <Feature: store_and_fwd_flag>,\n",
       " <Feature: trip_distance>,\n",
       " <Feature: dropoff_latitude>,\n",
       " <Feature: pickup_longitude>,\n",
       " <Feature: IS_WEEKEND(dropoff_datetime)>,\n",
       " <Feature: IS_WEEKEND(pickup_datetime)>]"
      ]
     },
     "execution_count": 6,
     "metadata": {},
     "output_type": "execute_result"
    }
   ],
   "source": [
    "print len(features)\n",
    "features"
   ]
  },
  {
   "cell_type": "markdown",
   "metadata": {},
   "source": [
    "Now let's compute the features. "
   ]
  },
  {
   "cell_type": "code",
   "execution_count": 7,
   "metadata": {},
   "outputs": [
    {
     "name": "stdout",
     "output_type": "stream",
     "text": [
      "Progress: 100%|██████████| 5/5 [00:07<00:00,  1.42s/cutoff time]\n"
     ]
    }
   ],
   "source": [
    "feature_matrix = compute_features(features, cutoff_time)"
   ]
  },
  {
   "cell_type": "markdown",
   "metadata": {},
   "source": [
    "# Step 4: Build the Model"
   ]
  },
  {
   "cell_type": "markdown",
   "metadata": {},
   "source": [
    "To build a model,\n",
    "* we first seperate the data into a porition for ``training`` (75% in this case) and a portion for ``testing`` \n",
    "* We also get the log of the trip duration so that a more linear relationship can be found.\n",
    "* We use ``GradientBoostingRegressor`` to train a model. "
   ]
  },
  {
   "cell_type": "code",
   "execution_count": 8,
   "metadata": {
    "collapsed": true
   },
   "outputs": [],
   "source": [
    "# separates the whole feature matrix into train data feature matrix, \n",
    "# train data labels, and test data feature matrix \n",
    "X_train, y_train, X_test, y_test = utils.get_train_test_fm(feature_matrix,.75)"
   ]
  },
  {
   "cell_type": "code",
   "execution_count": 9,
   "metadata": {
    "scrolled": true
   },
   "outputs": [
    {
     "data": {
      "text/plain": [
       "0.68784144118572588"
      ]
     },
     "execution_count": 9,
     "metadata": {},
     "output_type": "execute_result"
    }
   ],
   "source": [
    "model = GradientBoostingRegressor()\n",
    "model.fit(X_train,y_train)\n",
    "model.score(X_test,y_test)"
   ]
  },
  {
   "cell_type": "markdown",
   "metadata": {},
   "source": [
    "# Step 5: Adding more Transform Primitives\n",
    "\n",
    "* Add ``Minute``, ``Hour``, ``Week``, ``Month``, ``Weekday`` primitives\n",
    "* All these transform primitives apply to ``datetime`` column"
   ]
  },
  {
   "cell_type": "code",
   "execution_count": 10,
   "metadata": {
    "collapsed": true
   },
   "outputs": [],
   "source": [
    "trans_primitives = [Minute, Hour, Day, Week, Month, Weekday, Weekend]\n",
    "\n",
    "features = ft.dfs(entities=entities,\n",
    "                   relationships=relationships,\n",
    "                   target_entity=\"trips\",\n",
    "                   trans_primitives=trans_primitives,\n",
    "                   agg_primitives=[],\n",
    "                   features_only=True)"
   ]
  },
  {
   "cell_type": "code",
   "execution_count": 11,
   "metadata": {},
   "outputs": [
    {
     "name": "stdout",
     "output_type": "stream",
     "text": [
      "36\n"
     ]
    },
    {
     "data": {
      "text/plain": [
       "[<Feature: passenger_count>,\n",
       " <Feature: dropoff_longitude>,\n",
       " <Feature: payment_type>,\n",
       " <Feature: store_and_fwd_flag>,\n",
       " <Feature: vendor_id>,\n",
       " <Feature: pickup_latitude>,\n",
       " <Feature: pickup_longitude>,\n",
       " <Feature: trip_duration>,\n",
       " <Feature: trip_distance>,\n",
       " <Feature: dropoff_latitude>,\n",
       " <Feature: WEEKDAY(pickup_datetime)>,\n",
       " <Feature: WEEK(dropoff_datetime)>,\n",
       " <Feature: HOUR(pickup_datetime)>,\n",
       " <Feature: WEEKDAY(dropoff_datetime)>,\n",
       " <Feature: DAY(pickup_datetime)>,\n",
       " <Feature: MONTH(pickup_datetime)>,\n",
       " <Feature: WEEK(pickup_datetime)>,\n",
       " <Feature: DAY(dropoff_datetime)>,\n",
       " <Feature: MONTH(dropoff_datetime)>,\n",
       " <Feature: HOUR(dropoff_datetime)>,\n",
       " <Feature: IS_WEEKEND(pickup_datetime)>,\n",
       " <Feature: IS_WEEKEND(dropoff_datetime)>,\n",
       " <Feature: MINUTE(pickup_datetime)>,\n",
       " <Feature: MINUTE(dropoff_datetime)>,\n",
       " <Feature: passenger_cnt.WEEK(first_trips_time)>,\n",
       " <Feature: vendors.DAY(first_trips_time)>,\n",
       " <Feature: passenger_cnt.WEEKDAY(first_trips_time)>,\n",
       " <Feature: vendors.WEEKDAY(first_trips_time)>,\n",
       " <Feature: vendors.MONTH(first_trips_time)>,\n",
       " <Feature: passenger_cnt.DAY(first_trips_time)>,\n",
       " <Feature: passenger_cnt.MINUTE(first_trips_time)>,\n",
       " <Feature: passenger_cnt.HOUR(first_trips_time)>,\n",
       " <Feature: vendors.HOUR(first_trips_time)>,\n",
       " <Feature: passenger_cnt.MONTH(first_trips_time)>,\n",
       " <Feature: vendors.MINUTE(first_trips_time)>,\n",
       " <Feature: vendors.WEEK(first_trips_time)>]"
      ]
     },
     "execution_count": 11,
     "metadata": {},
     "output_type": "execute_result"
    }
   ],
   "source": [
    "print len(features)\n",
    "features"
   ]
  },
  {
   "cell_type": "markdown",
   "metadata": {},
   "source": [
    "Now let's compute the features. "
   ]
  },
  {
   "cell_type": "code",
   "execution_count": 12,
   "metadata": {},
   "outputs": [
    {
     "name": "stdout",
     "output_type": "stream",
     "text": [
      "Progress: 100%|██████████| 5/5 [00:21<00:00,  4.35s/cutoff time]\n"
     ]
    }
   ],
   "source": [
    "feature_matrix = compute_features(features, cutoff_time)"
   ]
  },
  {
   "cell_type": "code",
   "execution_count": 13,
   "metadata": {},
   "outputs": [
    {
     "data": {
      "text/html": [
       "<div>\n",
       "<style>\n",
       "    .dataframe thead tr:only-child th {\n",
       "        text-align: right;\n",
       "    }\n",
       "\n",
       "    .dataframe thead th {\n",
       "        text-align: left;\n",
       "    }\n",
       "\n",
       "    .dataframe tbody tr th {\n",
       "        vertical-align: top;\n",
       "    }\n",
       "</style>\n",
       "<table border=\"1\" class=\"dataframe\">\n",
       "  <thead>\n",
       "    <tr style=\"text-align: right;\">\n",
       "      <th></th>\n",
       "      <th>passenger_count</th>\n",
       "      <th>dropoff_longitude</th>\n",
       "      <th>payment_type</th>\n",
       "      <th>store_and_fwd_flag</th>\n",
       "      <th>vendor_id</th>\n",
       "      <th>pickup_latitude</th>\n",
       "      <th>pickup_longitude</th>\n",
       "      <th>trip_duration</th>\n",
       "      <th>trip_distance</th>\n",
       "      <th>dropoff_latitude</th>\n",
       "      <th>...</th>\n",
       "      <th>passenger_cnt.WEEKDAY(first_trips_time)</th>\n",
       "      <th>vendors.WEEKDAY(first_trips_time)</th>\n",
       "      <th>vendors.MONTH(first_trips_time)</th>\n",
       "      <th>passenger_cnt.DAY(first_trips_time)</th>\n",
       "      <th>passenger_cnt.MINUTE(first_trips_time)</th>\n",
       "      <th>passenger_cnt.HOUR(first_trips_time)</th>\n",
       "      <th>vendors.HOUR(first_trips_time)</th>\n",
       "      <th>passenger_cnt.MONTH(first_trips_time)</th>\n",
       "      <th>vendors.MINUTE(first_trips_time)</th>\n",
       "      <th>vendors.WEEK(first_trips_time)</th>\n",
       "    </tr>\n",
       "    <tr>\n",
       "      <th>id</th>\n",
       "      <th></th>\n",
       "      <th></th>\n",
       "      <th></th>\n",
       "      <th></th>\n",
       "      <th></th>\n",
       "      <th></th>\n",
       "      <th></th>\n",
       "      <th></th>\n",
       "      <th></th>\n",
       "      <th></th>\n",
       "      <th></th>\n",
       "      <th></th>\n",
       "      <th></th>\n",
       "      <th></th>\n",
       "      <th></th>\n",
       "      <th></th>\n",
       "      <th></th>\n",
       "      <th></th>\n",
       "      <th></th>\n",
       "      <th></th>\n",
       "      <th></th>\n",
       "    </tr>\n",
       "  </thead>\n",
       "  <tbody>\n",
       "    <tr>\n",
       "      <th>56311</th>\n",
       "      <td>1</td>\n",
       "      <td>-74.004730</td>\n",
       "      <td>1</td>\n",
       "      <td>False</td>\n",
       "      <td>2</td>\n",
       "      <td>40.719952</td>\n",
       "      <td>-73.987396</td>\n",
       "      <td>645.0</td>\n",
       "      <td>1.61</td>\n",
       "      <td>40.722809</td>\n",
       "      <td>...</td>\n",
       "      <td>4</td>\n",
       "      <td>4</td>\n",
       "      <td>1</td>\n",
       "      <td>1</td>\n",
       "      <td>45</td>\n",
       "      <td>1</td>\n",
       "      <td>0</td>\n",
       "      <td>1</td>\n",
       "      <td>1</td>\n",
       "      <td>53</td>\n",
       "    </tr>\n",
       "    <tr>\n",
       "      <th>698765</th>\n",
       "      <td>1</td>\n",
       "      <td>-73.984131</td>\n",
       "      <td>1</td>\n",
       "      <td>False</td>\n",
       "      <td>1</td>\n",
       "      <td>40.750095</td>\n",
       "      <td>-73.977142</td>\n",
       "      <td>227.0</td>\n",
       "      <td>0.70</td>\n",
       "      <td>40.745785</td>\n",
       "      <td>...</td>\n",
       "      <td>4</td>\n",
       "      <td>4</td>\n",
       "      <td>1</td>\n",
       "      <td>1</td>\n",
       "      <td>45</td>\n",
       "      <td>1</td>\n",
       "      <td>0</td>\n",
       "      <td>1</td>\n",
       "      <td>1</td>\n",
       "      <td>53</td>\n",
       "    </tr>\n",
       "    <tr>\n",
       "      <th>698766</th>\n",
       "      <td>1</td>\n",
       "      <td>-73.993301</td>\n",
       "      <td>1</td>\n",
       "      <td>False</td>\n",
       "      <td>1</td>\n",
       "      <td>40.721073</td>\n",
       "      <td>-73.997627</td>\n",
       "      <td>477.0</td>\n",
       "      <td>1.00</td>\n",
       "      <td>40.733433</td>\n",
       "      <td>...</td>\n",
       "      <td>4</td>\n",
       "      <td>4</td>\n",
       "      <td>1</td>\n",
       "      <td>1</td>\n",
       "      <td>45</td>\n",
       "      <td>1</td>\n",
       "      <td>0</td>\n",
       "      <td>1</td>\n",
       "      <td>1</td>\n",
       "      <td>53</td>\n",
       "    </tr>\n",
       "    <tr>\n",
       "      <th>698767</th>\n",
       "      <td>1</td>\n",
       "      <td>-73.945930</td>\n",
       "      <td>1</td>\n",
       "      <td>False</td>\n",
       "      <td>2</td>\n",
       "      <td>40.768250</td>\n",
       "      <td>-73.982140</td>\n",
       "      <td>1371.0</td>\n",
       "      <td>5.13</td>\n",
       "      <td>40.724018</td>\n",
       "      <td>...</td>\n",
       "      <td>4</td>\n",
       "      <td>4</td>\n",
       "      <td>1</td>\n",
       "      <td>1</td>\n",
       "      <td>45</td>\n",
       "      <td>1</td>\n",
       "      <td>0</td>\n",
       "      <td>1</td>\n",
       "      <td>1</td>\n",
       "      <td>53</td>\n",
       "    </tr>\n",
       "    <tr>\n",
       "      <th>698768</th>\n",
       "      <td>1</td>\n",
       "      <td>-73.952881</td>\n",
       "      <td>1</td>\n",
       "      <td>False</td>\n",
       "      <td>2</td>\n",
       "      <td>40.756191</td>\n",
       "      <td>-73.964592</td>\n",
       "      <td>350.0</td>\n",
       "      <td>1.29</td>\n",
       "      <td>40.772099</td>\n",
       "      <td>...</td>\n",
       "      <td>4</td>\n",
       "      <td>4</td>\n",
       "      <td>1</td>\n",
       "      <td>1</td>\n",
       "      <td>45</td>\n",
       "      <td>1</td>\n",
       "      <td>0</td>\n",
       "      <td>1</td>\n",
       "      <td>1</td>\n",
       "      <td>53</td>\n",
       "    </tr>\n",
       "    <tr>\n",
       "      <th>698769</th>\n",
       "      <td>1</td>\n",
       "      <td>-73.978600</td>\n",
       "      <td>1</td>\n",
       "      <td>False</td>\n",
       "      <td>1</td>\n",
       "      <td>40.741943</td>\n",
       "      <td>-73.985123</td>\n",
       "      <td>312.0</td>\n",
       "      <td>0.70</td>\n",
       "      <td>40.751209</td>\n",
       "      <td>...</td>\n",
       "      <td>4</td>\n",
       "      <td>4</td>\n",
       "      <td>1</td>\n",
       "      <td>1</td>\n",
       "      <td>45</td>\n",
       "      <td>1</td>\n",
       "      <td>0</td>\n",
       "      <td>1</td>\n",
       "      <td>1</td>\n",
       "      <td>53</td>\n",
       "    </tr>\n",
       "    <tr>\n",
       "      <th>698770</th>\n",
       "      <td>1</td>\n",
       "      <td>-73.975525</td>\n",
       "      <td>1</td>\n",
       "      <td>False</td>\n",
       "      <td>2</td>\n",
       "      <td>40.763371</td>\n",
       "      <td>-73.985252</td>\n",
       "      <td>287.0</td>\n",
       "      <td>0.72</td>\n",
       "      <td>40.765606</td>\n",
       "      <td>...</td>\n",
       "      <td>4</td>\n",
       "      <td>4</td>\n",
       "      <td>1</td>\n",
       "      <td>1</td>\n",
       "      <td>45</td>\n",
       "      <td>1</td>\n",
       "      <td>0</td>\n",
       "      <td>1</td>\n",
       "      <td>1</td>\n",
       "      <td>53</td>\n",
       "    </tr>\n",
       "    <tr>\n",
       "      <th>698771</th>\n",
       "      <td>1</td>\n",
       "      <td>-73.982208</td>\n",
       "      <td>2</td>\n",
       "      <td>False</td>\n",
       "      <td>1</td>\n",
       "      <td>40.741833</td>\n",
       "      <td>-73.992401</td>\n",
       "      <td>454.0</td>\n",
       "      <td>0.60</td>\n",
       "      <td>40.737656</td>\n",
       "      <td>...</td>\n",
       "      <td>4</td>\n",
       "      <td>4</td>\n",
       "      <td>1</td>\n",
       "      <td>1</td>\n",
       "      <td>45</td>\n",
       "      <td>1</td>\n",
       "      <td>0</td>\n",
       "      <td>1</td>\n",
       "      <td>1</td>\n",
       "      <td>53</td>\n",
       "    </tr>\n",
       "    <tr>\n",
       "      <th>698772</th>\n",
       "      <td>1</td>\n",
       "      <td>-74.010147</td>\n",
       "      <td>1</td>\n",
       "      <td>False</td>\n",
       "      <td>2</td>\n",
       "      <td>40.774170</td>\n",
       "      <td>-73.872910</td>\n",
       "      <td>1715.0</td>\n",
       "      <td>12.43</td>\n",
       "      <td>40.709469</td>\n",
       "      <td>...</td>\n",
       "      <td>4</td>\n",
       "      <td>4</td>\n",
       "      <td>1</td>\n",
       "      <td>1</td>\n",
       "      <td>45</td>\n",
       "      <td>1</td>\n",
       "      <td>0</td>\n",
       "      <td>1</td>\n",
       "      <td>1</td>\n",
       "      <td>53</td>\n",
       "    </tr>\n",
       "    <tr>\n",
       "      <th>698773</th>\n",
       "      <td>5</td>\n",
       "      <td>-73.977631</td>\n",
       "      <td>1</td>\n",
       "      <td>False</td>\n",
       "      <td>2</td>\n",
       "      <td>40.741089</td>\n",
       "      <td>-73.994026</td>\n",
       "      <td>886.0</td>\n",
       "      <td>1.59</td>\n",
       "      <td>40.729290</td>\n",
       "      <td>...</td>\n",
       "      <td>4</td>\n",
       "      <td>4</td>\n",
       "      <td>1</td>\n",
       "      <td>1</td>\n",
       "      <td>7</td>\n",
       "      <td>0</td>\n",
       "      <td>0</td>\n",
       "      <td>1</td>\n",
       "      <td>1</td>\n",
       "      <td>53</td>\n",
       "    </tr>\n",
       "  </tbody>\n",
       "</table>\n",
       "<p>10 rows × 36 columns</p>\n",
       "</div>"
      ],
      "text/plain": [
       "        passenger_count  dropoff_longitude  payment_type  store_and_fwd_flag  \\\n",
       "id                                                                             \n",
       "56311                 1         -74.004730             1               False   \n",
       "698765                1         -73.984131             1               False   \n",
       "698766                1         -73.993301             1               False   \n",
       "698767                1         -73.945930             1               False   \n",
       "698768                1         -73.952881             1               False   \n",
       "698769                1         -73.978600             1               False   \n",
       "698770                1         -73.975525             1               False   \n",
       "698771                1         -73.982208             2               False   \n",
       "698772                1         -74.010147             1               False   \n",
       "698773                5         -73.977631             1               False   \n",
       "\n",
       "       vendor_id  pickup_latitude  pickup_longitude  trip_duration  \\\n",
       "id                                                                   \n",
       "56311          2        40.719952        -73.987396          645.0   \n",
       "698765         1        40.750095        -73.977142          227.0   \n",
       "698766         1        40.721073        -73.997627          477.0   \n",
       "698767         2        40.768250        -73.982140         1371.0   \n",
       "698768         2        40.756191        -73.964592          350.0   \n",
       "698769         1        40.741943        -73.985123          312.0   \n",
       "698770         2        40.763371        -73.985252          287.0   \n",
       "698771         1        40.741833        -73.992401          454.0   \n",
       "698772         2        40.774170        -73.872910         1715.0   \n",
       "698773         2        40.741089        -73.994026          886.0   \n",
       "\n",
       "        trip_distance  dropoff_latitude               ...                \\\n",
       "id                                                    ...                 \n",
       "56311            1.61         40.722809               ...                 \n",
       "698765           0.70         40.745785               ...                 \n",
       "698766           1.00         40.733433               ...                 \n",
       "698767           5.13         40.724018               ...                 \n",
       "698768           1.29         40.772099               ...                 \n",
       "698769           0.70         40.751209               ...                 \n",
       "698770           0.72         40.765606               ...                 \n",
       "698771           0.60         40.737656               ...                 \n",
       "698772          12.43         40.709469               ...                 \n",
       "698773           1.59         40.729290               ...                 \n",
       "\n",
       "        passenger_cnt.WEEKDAY(first_trips_time)  \\\n",
       "id                                                \n",
       "56311                                         4   \n",
       "698765                                        4   \n",
       "698766                                        4   \n",
       "698767                                        4   \n",
       "698768                                        4   \n",
       "698769                                        4   \n",
       "698770                                        4   \n",
       "698771                                        4   \n",
       "698772                                        4   \n",
       "698773                                        4   \n",
       "\n",
       "        vendors.WEEKDAY(first_trips_time)  vendors.MONTH(first_trips_time)  \\\n",
       "id                                                                           \n",
       "56311                                   4                                1   \n",
       "698765                                  4                                1   \n",
       "698766                                  4                                1   \n",
       "698767                                  4                                1   \n",
       "698768                                  4                                1   \n",
       "698769                                  4                                1   \n",
       "698770                                  4                                1   \n",
       "698771                                  4                                1   \n",
       "698772                                  4                                1   \n",
       "698773                                  4                                1   \n",
       "\n",
       "        passenger_cnt.DAY(first_trips_time)  \\\n",
       "id                                            \n",
       "56311                                     1   \n",
       "698765                                    1   \n",
       "698766                                    1   \n",
       "698767                                    1   \n",
       "698768                                    1   \n",
       "698769                                    1   \n",
       "698770                                    1   \n",
       "698771                                    1   \n",
       "698772                                    1   \n",
       "698773                                    1   \n",
       "\n",
       "        passenger_cnt.MINUTE(first_trips_time)  \\\n",
       "id                                               \n",
       "56311                                       45   \n",
       "698765                                      45   \n",
       "698766                                      45   \n",
       "698767                                      45   \n",
       "698768                                      45   \n",
       "698769                                      45   \n",
       "698770                                      45   \n",
       "698771                                      45   \n",
       "698772                                      45   \n",
       "698773                                       7   \n",
       "\n",
       "        passenger_cnt.HOUR(first_trips_time)  vendors.HOUR(first_trips_time)  \\\n",
       "id                                                                             \n",
       "56311                                      1                               0   \n",
       "698765                                     1                               0   \n",
       "698766                                     1                               0   \n",
       "698767                                     1                               0   \n",
       "698768                                     1                               0   \n",
       "698769                                     1                               0   \n",
       "698770                                     1                               0   \n",
       "698771                                     1                               0   \n",
       "698772                                     1                               0   \n",
       "698773                                     0                               0   \n",
       "\n",
       "        passenger_cnt.MONTH(first_trips_time)  \\\n",
       "id                                              \n",
       "56311                                       1   \n",
       "698765                                      1   \n",
       "698766                                      1   \n",
       "698767                                      1   \n",
       "698768                                      1   \n",
       "698769                                      1   \n",
       "698770                                      1   \n",
       "698771                                      1   \n",
       "698772                                      1   \n",
       "698773                                      1   \n",
       "\n",
       "        vendors.MINUTE(first_trips_time)  vendors.WEEK(first_trips_time)  \n",
       "id                                                                        \n",
       "56311                                  1                              53  \n",
       "698765                                 1                              53  \n",
       "698766                                 1                              53  \n",
       "698767                                 1                              53  \n",
       "698768                                 1                              53  \n",
       "698769                                 1                              53  \n",
       "698770                                 1                              53  \n",
       "698771                                 1                              53  \n",
       "698772                                 1                              53  \n",
       "698773                                 1                              53  \n",
       "\n",
       "[10 rows x 36 columns]"
      ]
     },
     "execution_count": 13,
     "metadata": {},
     "output_type": "execute_result"
    }
   ],
   "source": [
    "preview(feature_matrix, 10)"
   ]
  },
  {
   "cell_type": "markdown",
   "metadata": {},
   "source": [
    "# Step 6: Build the new model"
   ]
  },
  {
   "cell_type": "code",
   "execution_count": null,
   "metadata": {
    "collapsed": true
   },
   "outputs": [],
   "source": [
    "# separates the whole feature matrix into train data feature matrix,\n",
    "# train data labels, and test data feature matrix \n",
    "X_train, y_train, X_test, y_test = utils.get_train_test_fm(feature_matrix,.75)"
   ]
  },
  {
   "cell_type": "code",
   "execution_count": null,
   "metadata": {},
   "outputs": [],
   "source": [
    "model = GradientBoostingRegressor()\n",
    "model.fit(X_train,y_train)\n",
    "model.score(X_test,y_test)"
   ]
  },
  {
   "cell_type": "markdown",
   "metadata": {},
   "source": [
    "# Step 7: Add Aggregation Primitives\n",
    "\n",
    "Now let's add aggregation primitives. These primitives will generate features for the parent entities in this case both ``vendors`` and ``passenger_cnt`` and then add them to the trips entity (which is the entity for which we are trying to make prediction."
   ]
  },
  {
   "cell_type": "code",
   "execution_count": null,
   "metadata": {
    "collapsed": true
   },
   "outputs": [],
   "source": [
    "trans_primitives = [Minute, Hour, Day, Week, Month, Weekday, Weekend]\n",
    "aggregation_primitives = [Sum, Mean, Median, Std]\n",
    "\n",
    "features = ft.dfs(entities=entities,\n",
    "                   relationships=relationships,\n",
    "                   target_entity=\"trips\",\n",
    "                   trans_primitives=trans_primitives,\n",
    "                   agg_primitives=aggregation_primitives,\n",
    "                   features_only=True)"
   ]
  },
  {
   "cell_type": "code",
   "execution_count": null,
   "metadata": {
    "scrolled": true
   },
   "outputs": [],
   "source": [
    "print len(features)\n",
    "features"
   ]
  },
  {
   "cell_type": "code",
   "execution_count": null,
   "metadata": {},
   "outputs": [],
   "source": [
    "feature_matrix = compute_features(features, cutoff_time)"
   ]
  },
  {
   "cell_type": "code",
   "execution_count": null,
   "metadata": {},
   "outputs": [],
   "source": [
    "preview(feature_matrix, 10)"
   ]
  },
  {
   "cell_type": "markdown",
   "metadata": {},
   "source": [
    "# Step 8: Build the new model"
   ]
  },
  {
   "cell_type": "code",
   "execution_count": null,
   "metadata": {
    "collapsed": true
   },
   "outputs": [],
   "source": [
    "# separates the whole feature matrix into train data feature matrix,\n",
    "# train data labels, and test data feature matrix \n",
    "X_train, y_train, X_test, y_test = utils.get_train_test_fm(feature_matrix,.75)"
   ]
  },
  {
   "cell_type": "code",
   "execution_count": null,
   "metadata": {
    "scrolled": true
   },
   "outputs": [],
   "source": [
    "model = GradientBoostingRegressor()\n",
    "model.fit(X_train,y_train)"
   ]
  },
  {
   "cell_type": "markdown",
   "metadata": {},
   "source": [
    "# Step 9: Evalute on test data"
   ]
  },
  {
   "cell_type": "code",
   "execution_count": null,
   "metadata": {
    "scrolled": true
   },
   "outputs": [],
   "source": [
    "y_pred = model.predict(X_test)\n",
    "y_pred[5:]"
   ]
  },
  {
   "cell_type": "code",
   "execution_count": null,
   "metadata": {},
   "outputs": [],
   "source": [
    "model.score(X_test,y_test)"
   ]
  },
  {
   "cell_type": "markdown",
   "metadata": {},
   "source": [
    "# Additional Analysis\n",
    "<p>Let's look at how important each feature was for the model.</p>"
   ]
  },
  {
   "cell_type": "code",
   "execution_count": null,
   "metadata": {},
   "outputs": [],
   "source": [
    "feature_importances(model, feature_matrix.columns.tolist(), n=15)"
   ]
  }
 ],
 "metadata": {
  "kernelspec": {
   "display_name": "Python 2",
   "language": "python",
   "name": "python2"
  },
  "language_info": {
   "codemirror_mode": {
    "name": "ipython",
    "version": 2
   },
   "file_extension": ".py",
   "mimetype": "text/x-python",
   "name": "python",
   "nbconvert_exporter": "python",
   "pygments_lexer": "ipython2",
   "version": "2.7.12"
  }
 },
 "nbformat": 4,
 "nbformat_minor": 2
}
